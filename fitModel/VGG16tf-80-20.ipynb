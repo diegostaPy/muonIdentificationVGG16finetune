{
 "cells": [
  {
   "cell_type": "code",
   "execution_count": 2,
   "metadata": {},
   "outputs": [
    {
     "ename": "ImportError",
     "evalue": "cannot import name 'LeakyRelu'",
     "output_type": "error",
     "traceback": [
      "\u001b[0;31m---------------------------------------------------------------------------\u001b[0m",
      "\u001b[0;31mImportError\u001b[0m                               Traceback (most recent call last)",
      "\u001b[0;32m<ipython-input-2-4cd3c2be3f8a>\u001b[0m in \u001b[0;36m<module>\u001b[0;34m\u001b[0m\n\u001b[1;32m     30\u001b[0m \u001b[0;32mfrom\u001b[0m \u001b[0mtensorflow\u001b[0m\u001b[0;34m.\u001b[0m\u001b[0mkeras\u001b[0m\u001b[0;34m.\u001b[0m\u001b[0mlayers\u001b[0m \u001b[0;32mimport\u001b[0m \u001b[0mDense\u001b[0m\u001b[0;34m\u001b[0m\u001b[0;34m\u001b[0m\u001b[0m\n\u001b[1;32m     31\u001b[0m \u001b[0;32mfrom\u001b[0m \u001b[0mtensorflow\u001b[0m\u001b[0;34m.\u001b[0m\u001b[0mkeras\u001b[0m\u001b[0;34m.\u001b[0m\u001b[0mlayers\u001b[0m \u001b[0;32mimport\u001b[0m \u001b[0mInput\u001b[0m\u001b[0;34m\u001b[0m\u001b[0;34m\u001b[0m\u001b[0m\n\u001b[0;32m---> 32\u001b[0;31m \u001b[0;32mfrom\u001b[0m \u001b[0mtensorflow\u001b[0m\u001b[0;34m.\u001b[0m\u001b[0mkeras\u001b[0m\u001b[0;34m.\u001b[0m\u001b[0mlayers\u001b[0m \u001b[0;32mimport\u001b[0m \u001b[0mLeakyRelu\u001b[0m\u001b[0;34m\u001b[0m\u001b[0;34m\u001b[0m\u001b[0m\n\u001b[0m\u001b[1;32m     33\u001b[0m \u001b[0;32mfrom\u001b[0m \u001b[0mtensorflow\u001b[0m\u001b[0;34m.\u001b[0m\u001b[0mkeras\u001b[0m\u001b[0;34m.\u001b[0m\u001b[0mmodels\u001b[0m \u001b[0;32mimport\u001b[0m \u001b[0mModel\u001b[0m\u001b[0;34m\u001b[0m\u001b[0;34m\u001b[0m\u001b[0m\n\u001b[1;32m     34\u001b[0m \u001b[0;32mfrom\u001b[0m \u001b[0mtensorflow\u001b[0m\u001b[0;34m.\u001b[0m\u001b[0mkeras\u001b[0m\u001b[0;34m.\u001b[0m\u001b[0moptimizers\u001b[0m \u001b[0;32mimport\u001b[0m \u001b[0mAdam\u001b[0m\u001b[0;34m\u001b[0m\u001b[0;34m\u001b[0m\u001b[0m\n",
      "\u001b[0;31mImportError\u001b[0m: cannot import name 'LeakyRelu'"
     ]
    }
   ],
   "source": [
    "import matplotlib.pyplot as plt\n",
    "import numpy as np\n",
    "import pandas as pd\n",
    "import os\n",
    "import time\n",
    "import tensorflow as tf\n",
    "#from tensorflow.contrib.data import Dataset, Iterator\n",
    "#import sklearn.cross_validation as sk\n",
    "import warnings; warnings.simplefilter('ignore')\n",
    "import cv2\n",
    "import matplotlib.pyplot as plt\n",
    "get_ipython().run_line_magic('matplotlib', 'inline')\n",
    "import sys\n",
    "import random\n",
    "\n",
    "from sklearn.metrics import classification_report, confusion_matrix\n",
    "\n",
    "from astropy.io import fits\n",
    "import cv2\n",
    "import random\n",
    "from tensorflow.keras.preprocessing.image import ImageDataGenerator\n",
    "from tensorflow.keras.applications import VGG16\n",
    "from tensorflow.keras.callbacks import ModelCheckpoint\n",
    "from tensorflow.keras.models import load_model\n",
    "from tensorflow.keras.models import Sequential\n",
    "\n",
    "from tensorflow.keras.layers import AveragePooling2D\n",
    "from tensorflow.keras.layers import Dropout\n",
    "from tensorflow.keras.layers import Flatten\n",
    "from tensorflow.keras.layers import Dense\n",
    "from tensorflow.keras.layers import Input\n",
    "from tensorflow.keras.models import Model\n",
    "from tensorflow.keras.optimizers import Adam\n",
    "from tensorflow.keras.utils import to_categorical\n",
    "from sklearn.preprocessing import LabelBinarizer\n",
    "from sklearn.model_selection import train_test_split\n",
    "from sklearn.metrics import classification_report\n",
    "from sklearn.metrics import confusion_matrix\n",
    "\n",
    "import numpy as np\n",
    "\n",
    "\n",
    "import time\n",
    "from datetime import timedelta"
   ]
  },
  {
   "cell_type": "code",
   "execution_count": 2,
   "metadata": {},
   "outputs": [],
   "source": [
    "physical_devices = tf.config.experimental.list_physical_devices('GPU')\n",
    "tf.config.experimental.set_memory_growth(physical_devices[0], True)"
   ]
  },
  {
   "cell_type": "code",
   "execution_count": 3,
   "metadata": {},
   "outputs": [],
   "source": [
    "Data = pd.read_csv('sample/trainCatalogCombined.csv')\n"
   ]
  },
  {
   "cell_type": "code",
   "execution_count": 4,
   "metadata": {},
   "outputs": [
    {
     "data": {
      "text/html": [
       "<div>\n",
       "<style scoped>\n",
       "    .dataframe tbody tr th:only-of-type {\n",
       "        vertical-align: middle;\n",
       "    }\n",
       "\n",
       "    .dataframe tbody tr th {\n",
       "        vertical-align: top;\n",
       "    }\n",
       "\n",
       "    .dataframe thead th {\n",
       "        text-align: right;\n",
       "    }\n",
       "</style>\n",
       "<table border=\"1\" class=\"dataframe\">\n",
       "  <thead>\n",
       "    <tr style=\"text-align: right;\">\n",
       "      <th></th>\n",
       "      <th>class_Jorge</th>\n",
       "      <th>runID</th>\n",
       "      <th>ohdu</th>\n",
       "      <th>eventID</th>\n",
       "      <th>classID_Jorge</th>\n",
       "      <th>class_Diego</th>\n",
       "      <th>classID_Diego</th>\n",
       "      <th>class_Javier</th>\n",
       "      <th>classID_Javier</th>\n",
       "    </tr>\n",
       "  </thead>\n",
       "  <tbody>\n",
       "    <tr>\n",
       "      <th>0</th>\n",
       "      <td>undefined</td>\n",
       "      <td>6378</td>\n",
       "      <td>5</td>\n",
       "      <td>233</td>\n",
       "      <td>3</td>\n",
       "      <td>undefined</td>\n",
       "      <td>3</td>\n",
       "      <td>undefined</td>\n",
       "      <td>3</td>\n",
       "    </tr>\n",
       "    <tr>\n",
       "      <th>1</th>\n",
       "      <td>muon_sure</td>\n",
       "      <td>6704</td>\n",
       "      <td>5</td>\n",
       "      <td>628</td>\n",
       "      <td>0</td>\n",
       "      <td>muon_sure</td>\n",
       "      <td>0</td>\n",
       "      <td>muon_sure</td>\n",
       "      <td>0</td>\n",
       "    </tr>\n",
       "    <tr>\n",
       "      <th>2</th>\n",
       "      <td>error de segmentacion</td>\n",
       "      <td>7228</td>\n",
       "      <td>2</td>\n",
       "      <td>163</td>\n",
       "      <td>4</td>\n",
       "      <td>error de segmentacion</td>\n",
       "      <td>4</td>\n",
       "      <td>error de segmentacion</td>\n",
       "      <td>4</td>\n",
       "    </tr>\n",
       "    <tr>\n",
       "      <th>3</th>\n",
       "      <td>error de segmentacion</td>\n",
       "      <td>6609</td>\n",
       "      <td>5</td>\n",
       "      <td>137</td>\n",
       "      <td>4</td>\n",
       "      <td>error de segmentacion</td>\n",
       "      <td>4</td>\n",
       "      <td>error de segmentacion</td>\n",
       "      <td>4</td>\n",
       "    </tr>\n",
       "    <tr>\n",
       "      <th>4</th>\n",
       "      <td>error de segmentacion</td>\n",
       "      <td>7279</td>\n",
       "      <td>5</td>\n",
       "      <td>168</td>\n",
       "      <td>4</td>\n",
       "      <td>error de segmentacion</td>\n",
       "      <td>4</td>\n",
       "      <td>error de segmentacion</td>\n",
       "      <td>4</td>\n",
       "    </tr>\n",
       "  </tbody>\n",
       "</table>\n",
       "</div>"
      ],
      "text/plain": [
       "             class_Jorge  runID  ohdu  eventID  classID_Jorge  \\\n",
       "0              undefined   6378     5      233              3   \n",
       "1              muon_sure   6704     5      628              0   \n",
       "2  error de segmentacion   7228     2      163              4   \n",
       "3  error de segmentacion   6609     5      137              4   \n",
       "4  error de segmentacion   7279     5      168              4   \n",
       "\n",
       "             class_Diego  classID_Diego           class_Javier  classID_Javier  \n",
       "0              undefined              3              undefined               3  \n",
       "1              muon_sure              0              muon_sure               0  \n",
       "2  error de segmentacion              4  error de segmentacion               4  \n",
       "3  error de segmentacion              4  error de segmentacion               4  \n",
       "4  error de segmentacion              4  error de segmentacion               4  "
      ]
     },
     "execution_count": 4,
     "metadata": {},
     "output_type": "execute_result"
    }
   ],
   "source": [
    "Data.head()"
   ]
  },
  {
   "cell_type": "code",
   "execution_count": 5,
   "metadata": {},
   "outputs": [
    {
     "name": "stdout",
     "output_type": "stream",
     "text": [
      "<class 'pandas.core.frame.DataFrame'>\n",
      "RangeIndex: 2028 entries, 0 to 2027\n",
      "Data columns (total 9 columns):\n",
      " #   Column          Non-Null Count  Dtype \n",
      "---  ------          --------------  ----- \n",
      " 0   class_Jorge     2028 non-null   object\n",
      " 1   runID           2028 non-null   int64 \n",
      " 2   ohdu            2028 non-null   int64 \n",
      " 3   eventID         2028 non-null   int64 \n",
      " 4   classID_Jorge   2028 non-null   int64 \n",
      " 5   class_Diego     2028 non-null   object\n",
      " 6   classID_Diego   2028 non-null   int64 \n",
      " 7   class_Javier    2028 non-null   object\n",
      " 8   classID_Javier  2028 non-null   int64 \n",
      "dtypes: int64(6), object(3)\n",
      "memory usage: 142.7+ KB\n"
     ]
    }
   ],
   "source": [
    "Data.info()"
   ]
  },
  {
   "cell_type": "code",
   "execution_count": 6,
   "metadata": {},
   "outputs": [],
   "source": [
    "Data[\"muon\"] = Data.classID_Jorge==0\n"
   ]
  },
  {
   "cell_type": "code",
   "execution_count": 7,
   "metadata": {},
   "outputs": [],
   "source": [
    "def preprocessing(matrix):\n",
    "    #************************\n",
    "    #funcion que recibe una matriz imagen, y hace el preprocesamiento necesario, jutno con el resize y agregado de 0s\n",
    "    #*************\n",
    "    size=100\n",
    "    #convertir a numpy array\n",
    "    data = np.array(matrix)\n",
    "    #quitar los valores negativos\n",
    "    data = np.where(data<0, 0, data)\n",
    "    #convertir a escala logaritmica\n",
    "   # data = np.uint8(np.log1p(data))\n",
    "    data = (np.sqrt(data))\n",
    "    \n",
    "    #normalizar a 0-255\n",
    "    #data = cv2.normalize(data, None, 0, 255, cv2.NORM_MINMAX, dtype = cv2.CV_8U)\n",
    "    \n",
    "    #resize\n",
    "    if data.shape[1] == data.shape[0]:\n",
    "        result = cv2.resize(data,(size,size), interpolation = cv2.INTER_NEAREST)\n",
    "        \n",
    "    elif data.shape[0] > data.shape[1]:\n",
    "        resized = cv2.resize(data,(int(data.shape[1]*size/data.shape[0]),size), interpolation = cv2.INTER_NEAREST)\n",
    "        sumar = int((size - resized.shape[1])/2)\n",
    "        if resized.shape[1]%2 == 0:\n",
    "            result = np.pad(resized, ((0,0),(sumar,sumar)) , mode='constant', constant_values=(0,0))\n",
    "        else:\n",
    "            result = np.pad(resized, ((0,0),(sumar+1,sumar)) , mode='constant', constant_values=(0,0))\n",
    "            \n",
    "    elif data.shape[1]> data.shape[0]:\n",
    "        resized = cv2.resize(data,(size,int(data.shape[0]*size/data.shape[1])), interpolation = cv2.INTER_NEAREST)\n",
    "        sumar = int((size - resized.shape[0])/2)\n",
    "        if resized.shape[0]%2 == 0:\n",
    "            result = np.pad(resized, ((sumar,sumar),(0,0)) , mode='constant', constant_values=(0,0))\n",
    "        else:\n",
    "            result = np.pad(resized, ((sumar+1,sumar),(0,0)) , mode='constant', constant_values=(0,0))\n",
    "    return result\n",
    "\n",
    "\n"
   ]
  },
  {
   "cell_type": "code",
   "execution_count": 8,
   "metadata": {},
   "outputs": [
    {
     "name": "stdout",
     "output_type": "stream",
     "text": [
      "2028\n",
      "2028\n",
      "muonSure:\t364\n"
     ]
    }
   ],
   "source": [
    "Pwd='/tf/Documentos/CONNIEData/eventsFits/'\n",
    "#crear los vectores x con las matrices ya procesadas (de 64x64) y el vector y con las etiquetas\n",
    "data = []\n",
    "labels = []\n",
    "for row in Data.iterrows():\n",
    "    fits_image_filename =Pwd+str(row[1].runID)+'/catalog' +str(row[1].runID)+ '_' +str(row[1].ohdu)+'_' + str(row[1].eventID) + '.fits'\n",
    "    with fits.open(fits_image_filename,memmap=False) as hdul:\n",
    "        scidata = hdul[0].data\n",
    "        del hdul\n",
    "    mat = preprocessing(scidata)\n",
    "    data.append(mat)\n",
    "    labels.append(row[1].muon)\n",
    "\n",
    "\n",
    "print (len(data))\n",
    "print (len(labels))\n",
    "print ('muonSure:\\t' + str( labels.count(True)))\n"
   ]
  },
  {
   "cell_type": "code",
   "execution_count": 9,
   "metadata": {},
   "outputs": [],
   "source": [
    " data=np.array(data)\n",
    "    "
   ]
  },
  {
   "cell_type": "code",
   "execution_count": 10,
   "metadata": {},
   "outputs": [
    {
     "name": "stdout",
     "output_type": "stream",
     "text": [
      "True\n",
      "False\n",
      "False\n",
      "False\n"
     ]
    },
    {
     "data": {
      "image/png": "[encoded data removed]",
      "text/plain": [
       "<Figure size 432x288 with 1 Axes>"
      ]
     },
     "metadata": {
      "needs_background": "light"
     },
     "output_type": "display_data"
    },
    {
     "data": {
      "image/png": "[encoded data removed]",
      "text/plain": [
       "<Figure size 432x288 with 1 Axes>"
      ]
     },
     "metadata": {
      "needs_background": "light"
     },
     "output_type": "display_data"
    },
    {
     "data": {
      "image/png": "[encoded data removed]",
      "text/plain": [
       "<Figure size 432x288 with 1 Axes>"
      ]
     },
     "metadata": {
      "needs_background": "light"
     },
     "output_type": "display_data"
    },
    {
     "data": {
      "image/png": "[encoded data removed]",
      "text/plain": [
       "<Figure size 432x288 with 1 Axes>"
      ]
     },
     "metadata": {
      "needs_background": "light"
     },
     "output_type": "display_data"
    }
   ],
   "source": [
    "for i in [1,2,3,4]:\n",
    "    I = np.asarray(data[i])\n",
    "    fig = plt.figure()\n",
    "    plt.imshow(I)\n",
    "    print(labels[i])"
   ]
  },
  {
   "cell_type": "code",
   "execution_count": 11,
   "metadata": {},
   "outputs": [
    {
     "name": "stdout",
     "output_type": "stream",
     "text": [
      "[[1. 0.]\n",
      " [0. 1.]\n",
      " [1. 0.]\n",
      " ...\n",
      " [1. 0.]\n",
      " [1. 0.]\n",
      " [1. 0.]]\n"
     ]
    }
   ],
   "source": [
    "lb = LabelBinarizer()\n",
    "labels = lb.fit_transform(labels)\n",
    "labels = to_categorical(labels); print(labels)\n",
    "(trainX, testX, trainY, testY) = train_test_split(data, labels,\n",
    "\ttest_size=0.20, stratify=labels, random_state=42)\n",
    "trainAug = ImageDataGenerator(\n",
    "    horizontal_flip=True,\n",
    "    vertical_flip=True,\n",
    "\tfill_mode=\"nearest\")\n"
   ]
  },
  {
   "cell_type": "code",
   "execution_count": 12,
   "metadata": {},
   "outputs": [],
   "source": [
    "from sklearn.utils import class_weight"
   ]
  },
  {
   "cell_type": "code",
   "execution_count": 13,
   "metadata": {},
   "outputs": [],
   "source": [
    "class_weights = class_weight.compute_class_weight('balanced',\n",
    "                                                 np.unique(np.argmax(trainY, axis=1)),\n",
    "                                                 np.argmax(trainY, axis=1))\n",
    "d_class_weights = dict(enumerate(class_weights))"
   ]
  },
  {
   "cell_type": "code",
   "execution_count": 14,
   "metadata": {},
   "outputs": [
    {
     "name": "stdout",
     "output_type": "stream",
     "text": [
      "{0: 0.6093163035311796, 1: 2.7869415807560136}\n"
     ]
    }
   ],
   "source": [
    "print(d_class_weights )"
   ]
  },
  {
   "cell_type": "code",
   "execution_count": 15,
   "metadata": {},
   "outputs": [],
   "source": [
    "trainX =np.expand_dims(trainX, axis=3)\n",
    "testX = np.expand_dims(testX, axis=3)\n",
    "trainX = np.concatenate( [trainX,trainX,trainX], axis=-1 )\n",
    "testX = np.concatenate( [testX,testX,testX], axis=-1)\n"
   ]
  },
  {
   "cell_type": "code",
   "execution_count": 16,
   "metadata": {},
   "outputs": [
    {
     "name": "stdout",
     "output_type": "stream",
     "text": [
      "(1622, 100, 100, 3)\n"
     ]
    }
   ],
   "source": [
    "print(np.shape(trainX))"
   ]
  },
  {
   "cell_type": "code",
   "execution_count": 17,
   "metadata": {},
   "outputs": [],
   "source": [
    "vgg_pretrained_model = VGG16(weights=\"imagenet\", \n",
    "                             include_top= False,\n",
    "                             input_tensor=Input(shape=(100, 100,3)))\n",
    "new_model = vgg_pretrained_model.output\n",
    "new_model = AveragePooling2D(pool_size=(3, 3))(new_model)\n",
    "new_model = Flatten(name=\"flatten\")(new_model)\n",
    "new_model = Dense(256, activation=\"relu\")(new_model)\n",
    "new_model = Dropout(0.5)(new_model)\n",
    "new_model = Dense(2, activation=\"softmax\")(new_model)\n",
    "model = Model(inputs=vgg_pretrained_model.input, outputs=new_model)\n",
    "model_json = model.to_json()\n",
    "with open(\"modelos/vgg16_80_20/model.json\", \"w\") as json_file:\n",
    "    json_file.write(model_json)\n"
   ]
  },
  {
   "cell_type": "code",
   "execution_count": 18,
   "metadata": {},
   "outputs": [],
   "source": [
    "INIT_LR = 1e-6\n",
    "EPOCHS = 100\n",
    "BS = 200"
   ]
  },
  {
   "cell_type": "code",
   "execution_count": 19,
   "metadata": {},
   "outputs": [],
   "source": [
    "filepath=\"modelos/vgg16_80_20/best_model.h5\"\n",
    "checkpoint = ModelCheckpoint(filepath, monitor='val_accuracy', verbose=1, save_best_only=True, mode='max')\n",
    "callbacks_list = [checkpoint]"
   ]
  },
  {
   "cell_type": "code",
   "execution_count": 20,
   "metadata": {},
   "outputs": [
    {
     "name": "stdout",
     "output_type": "stream",
     "text": [
      "[INFO] compiling model...\n"
     ]
    },
    {
     "data": {
      "text/plain": [
       "(None,)"
      ]
     },
     "execution_count": 20,
     "metadata": {},
     "output_type": "execute_result"
    }
   ],
   "source": [
    "print(\"[INFO] compiling model...\")\n",
    "opt = Adam(lr=INIT_LR, decay=INIT_LR / EPOCHS)\n",
    "model.compile(loss=\"binary_crossentropy\", optimizer=opt,\n",
    "    metrics=[\"accuracy\"]),\n",
    "    "
   ]
  },
  {
   "cell_type": "code",
   "execution_count": 21,
   "metadata": {
    "jupyter": {
     "outputs_hidden": true
    }
   },
   "outputs": [
    {
     "name": "stdout",
     "output_type": "stream",
     "text": [
      "[INFO] training head...\n",
      "WARNING:tensorflow:From <ipython-input-21-fc35b2274d80>:11: Model.fit_generator (from tensorflow.python.keras.engine.training) is deprecated and will be removed in a future version.\n",
      "Instructions for updating:\n",
      "Please use Model.fit, which supports generators.\n",
      "Epoch 1/100\n",
      "8/8 [==============================] - ETA: 0s - loss: 2.9243 - accuracy: 0.5190\n",
      "Epoch 00001: val_accuracy improved from -inf to 0.52217, saving model to modelos/vgg16_80_20/best_model.h5\n",
      "8/8 [==============================] - 7s 825ms/step - loss: 2.9243 - accuracy: 0.5190 - val_loss: 1.2072 - val_accuracy: 0.5222\n",
      "Epoch 2/100\n",
      "8/8 [==============================] - ETA: 0s - loss: 2.0562 - accuracy: 0.5647\n",
      "Epoch 00002: val_accuracy improved from 0.52217 to 0.63793, saving model to modelos/vgg16_80_20/best_model.h5\n",
      "8/8 [==============================] - 4s 453ms/step - loss: 2.0562 - accuracy: 0.5647 - val_loss: 0.7190 - val_accuracy: 0.6379\n",
      "Epoch 3/100\n",
      "8/8 [==============================] - ETA: 0s - loss: 1.5684 - accuracy: 0.6526\n",
      "Epoch 00003: val_accuracy improved from 0.63793 to 0.81527, saving model to modelos/vgg16_80_20/best_model.h5\n",
      "8/8 [==============================] - 4s 449ms/step - loss: 1.5684 - accuracy: 0.6526 - val_loss: 0.4451 - val_accuracy: 0.8153\n",
      "Epoch 4/100\n",
      "8/8 [==============================] - ETA: 0s - loss: 1.1460 - accuracy: 0.6772\n",
      "Epoch 00004: val_accuracy improved from 0.81527 to 0.89163, saving model to modelos/vgg16_80_20/best_model.h5\n",
      "8/8 [==============================] - 4s 458ms/step - loss: 1.1460 - accuracy: 0.6772 - val_loss: 0.3206 - val_accuracy: 0.8916\n",
      "Epoch 5/100\n",
      "8/8 [==============================] - ETA: 0s - loss: 0.9169 - accuracy: 0.7117\n",
      "Epoch 00005: val_accuracy improved from 0.89163 to 0.93103, saving model to modelos/vgg16_80_20/best_model.h5\n",
      "8/8 [==============================] - 4s 466ms/step - loss: 0.9169 - accuracy: 0.7117 - val_loss: 0.2651 - val_accuracy: 0.9310\n",
      "Epoch 6/100\n",
      "8/8 [==============================] - ETA: 0s - loss: 0.8276 - accuracy: 0.7595\n",
      "Epoch 00006: val_accuracy improved from 0.93103 to 0.94581, saving model to modelos/vgg16_80_20/best_model.h5\n",
      "8/8 [==============================] - 4s 455ms/step - loss: 0.8276 - accuracy: 0.7595 - val_loss: 0.2402 - val_accuracy: 0.9458\n",
      "Epoch 7/100\n",
      "8/8 [==============================] - ETA: 0s - loss: 0.7175 - accuracy: 0.7489\n",
      "Epoch 00007: val_accuracy did not improve from 0.94581\n",
      "8/8 [==============================] - 2s 290ms/step - loss: 0.7175 - accuracy: 0.7489 - val_loss: 0.2255 - val_accuracy: 0.9458\n",
      "Epoch 8/100\n",
      "8/8 [==============================] - ETA: 0s - loss: 0.6404 - accuracy: 0.7869\n",
      "Epoch 00008: val_accuracy did not improve from 0.94581\n",
      "8/8 [==============================] - 2s 283ms/step - loss: 0.6404 - accuracy: 0.7869 - val_loss: 0.2109 - val_accuracy: 0.9458\n",
      "Epoch 9/100\n",
      "8/8 [==============================] - ETA: 0s - loss: 0.6056 - accuracy: 0.8024\n",
      "Epoch 00009: val_accuracy improved from 0.94581 to 0.94828, saving model to modelos/vgg16_80_20/best_model.h5\n",
      "8/8 [==============================] - 4s 466ms/step - loss: 0.6056 - accuracy: 0.8024 - val_loss: 0.1955 - val_accuracy: 0.9483\n",
      "Epoch 10/100\n",
      "8/8 [==============================] - ETA: 0s - loss: 0.5219 - accuracy: 0.8179\n",
      "Epoch 00010: val_accuracy improved from 0.94828 to 0.95074, saving model to modelos/vgg16_80_20/best_model.h5\n",
      "8/8 [==============================] - 4s 455ms/step - loss: 0.5219 - accuracy: 0.8179 - val_loss: 0.1820 - val_accuracy: 0.9507\n",
      "Epoch 11/100\n",
      "8/8 [==============================] - ETA: 0s - loss: 0.4483 - accuracy: 0.8340\n",
      "Epoch 00011: val_accuracy improved from 0.95074 to 0.95813, saving model to modelos/vgg16_80_20/best_model.h5\n",
      "8/8 [==============================] - 4s 451ms/step - loss: 0.4483 - accuracy: 0.8340 - val_loss: 0.1699 - val_accuracy: 0.9581\n",
      "Epoch 12/100\n",
      "8/8 [==============================] - ETA: 0s - loss: 0.4043 - accuracy: 0.8551\n",
      "Epoch 00012: val_accuracy improved from 0.95813 to 0.96059, saving model to modelos/vgg16_80_20/best_model.h5\n",
      "8/8 [==============================] - 4s 444ms/step - loss: 0.4043 - accuracy: 0.8551 - val_loss: 0.1604 - val_accuracy: 0.9606\n",
      "Epoch 13/100\n",
      "8/8 [==============================] - ETA: 0s - loss: 0.4392 - accuracy: 0.8509\n",
      "Epoch 00013: val_accuracy improved from 0.96059 to 0.96552, saving model to modelos/vgg16_80_20/best_model.h5\n",
      "8/8 [==============================] - 4s 451ms/step - loss: 0.4392 - accuracy: 0.8509 - val_loss: 0.1528 - val_accuracy: 0.9655\n",
      "Epoch 14/100\n",
      "8/8 [==============================] - ETA: 0s - loss: 0.4053 - accuracy: 0.8601\n",
      "Epoch 00014: val_accuracy did not improve from 0.96552\n",
      "8/8 [==============================] - 2s 282ms/step - loss: 0.4053 - accuracy: 0.8601 - val_loss: 0.1497 - val_accuracy: 0.9655\n",
      "Epoch 15/100\n",
      "8/8 [==============================] - ETA: 0s - loss: 0.3612 - accuracy: 0.8719\n",
      "Epoch 00015: val_accuracy did not improve from 0.96552\n",
      "8/8 [==============================] - 3s 315ms/step - loss: 0.3612 - accuracy: 0.8719 - val_loss: 0.1474 - val_accuracy: 0.9631\n",
      "Epoch 16/100\n",
      "8/8 [==============================] - ETA: 0s - loss: 0.3401 - accuracy: 0.8734\n",
      "Epoch 00016: val_accuracy improved from 0.96552 to 0.96798, saving model to modelos/vgg16_80_20/best_model.h5\n",
      "8/8 [==============================] - 4s 466ms/step - loss: 0.3401 - accuracy: 0.8734 - val_loss: 0.1417 - val_accuracy: 0.9680\n",
      "Epoch 17/100\n",
      "8/8 [==============================] - ETA: 0s - loss: 0.3630 - accuracy: 0.8900\n",
      "Epoch 00017: val_accuracy did not improve from 0.96798\n",
      "8/8 [==============================] - 3s 317ms/step - loss: 0.3630 - accuracy: 0.8900 - val_loss: 0.1378 - val_accuracy: 0.9680\n",
      "Epoch 18/100\n",
      "8/8 [==============================] - ETA: 0s - loss: 0.2915 - accuracy: 0.8952\n",
      "Epoch 00018: val_accuracy did not improve from 0.96798\n",
      "8/8 [==============================] - 2s 282ms/step - loss: 0.2915 - accuracy: 0.8952 - val_loss: 0.1340 - val_accuracy: 0.9680\n",
      "Epoch 19/100\n",
      "8/8 [==============================] - ETA: 0s - loss: 0.2806 - accuracy: 0.8966\n",
      "Epoch 00019: val_accuracy did not improve from 0.96798\n",
      "8/8 [==============================] - 2s 290ms/step - loss: 0.2806 - accuracy: 0.8966 - val_loss: 0.1302 - val_accuracy: 0.9680\n",
      "Epoch 20/100\n",
      "8/8 [==============================] - ETA: 0s - loss: 0.2821 - accuracy: 0.8924\n",
      "Epoch 00020: val_accuracy improved from 0.96798 to 0.97044, saving model to modelos/vgg16_80_20/best_model.h5\n",
      "8/8 [==============================] - 4s 488ms/step - loss: 0.2821 - accuracy: 0.8924 - val_loss: 0.1246 - val_accuracy: 0.9704\n",
      "Epoch 21/100\n",
      "8/8 [==============================] - ETA: 0s - loss: 0.2438 - accuracy: 0.9135\n",
      "Epoch 00021: val_accuracy did not improve from 0.97044\n",
      "8/8 [==============================] - 2s 282ms/step - loss: 0.2438 - accuracy: 0.9135 - val_loss: 0.1201 - val_accuracy: 0.9680\n",
      "Epoch 22/100\n",
      "8/8 [==============================] - ETA: 0s - loss: 0.2975 - accuracy: 0.9065\n",
      "Epoch 00022: val_accuracy did not improve from 0.97044\n",
      "8/8 [==============================] - 3s 315ms/step - loss: 0.2975 - accuracy: 0.9065 - val_loss: 0.1167 - val_accuracy: 0.9655\n",
      "Epoch 23/100\n",
      "8/8 [==============================] - ETA: 0s - loss: 0.2399 - accuracy: 0.9149\n",
      "Epoch 00023: val_accuracy did not improve from 0.97044\n",
      "8/8 [==============================] - 2s 290ms/step - loss: 0.2399 - accuracy: 0.9149 - val_loss: 0.1183 - val_accuracy: 0.9631\n",
      "Epoch 24/100\n",
      "8/8 [==============================] - ETA: 0s - loss: 0.2471 - accuracy: 0.9276\n",
      "Epoch 00024: val_accuracy did not improve from 0.97044\n",
      "8/8 [==============================] - 2s 282ms/step - loss: 0.2471 - accuracy: 0.9276 - val_loss: 0.1175 - val_accuracy: 0.9655\n",
      "Epoch 25/100\n",
      "8/8 [==============================] - ETA: 0s - loss: 0.2317 - accuracy: 0.9226\n",
      "Epoch 00025: val_accuracy did not improve from 0.97044\n",
      "8/8 [==============================] - 2s 283ms/step - loss: 0.2317 - accuracy: 0.9226 - val_loss: 0.1207 - val_accuracy: 0.9655\n",
      "Epoch 26/100\n",
      "8/8 [==============================] - ETA: 0s - loss: 0.1819 - accuracy: 0.9409\n",
      "Epoch 00026: val_accuracy did not improve from 0.97044\n",
      "8/8 [==============================] - 2s 291ms/step - loss: 0.1819 - accuracy: 0.9409 - val_loss: 0.1203 - val_accuracy: 0.9655\n"
     ]
    },
    {
     "name": "stdout",
     "output_type": "stream",
     "text": [
      "Epoch 27/100\n",
      "8/8 [==============================] - ETA: 0s - loss: 0.2056 - accuracy: 0.9318\n",
      "Epoch 00027: val_accuracy did not improve from 0.97044\n",
      "8/8 [==============================] - 3s 316ms/step - loss: 0.2056 - accuracy: 0.9318 - val_loss: 0.1155 - val_accuracy: 0.9655\n",
      "Epoch 28/100\n",
      "8/8 [==============================] - ETA: 0s - loss: 0.2262 - accuracy: 0.9248\n",
      "Epoch 00028: val_accuracy did not improve from 0.97044\n",
      "8/8 [==============================] - 2s 282ms/step - loss: 0.2262 - accuracy: 0.9248 - val_loss: 0.1109 - val_accuracy: 0.9680\n",
      "Epoch 29/100\n",
      "8/8 [==============================] - ETA: 0s - loss: 0.1954 - accuracy: 0.9255\n",
      "Epoch 00029: val_accuracy did not improve from 0.97044\n",
      "8/8 [==============================] - 3s 325ms/step - loss: 0.1954 - accuracy: 0.9255 - val_loss: 0.1068 - val_accuracy: 0.9680\n",
      "Epoch 30/100\n",
      "8/8 [==============================] - ETA: 0s - loss: 0.1919 - accuracy: 0.9332\n",
      "Epoch 00030: val_accuracy did not improve from 0.97044\n",
      "8/8 [==============================] - 2s 283ms/step - loss: 0.1919 - accuracy: 0.9332 - val_loss: 0.1043 - val_accuracy: 0.9680\n",
      "Epoch 31/100\n",
      "8/8 [==============================] - ETA: 0s - loss: 0.2173 - accuracy: 0.9360\n",
      "Epoch 00031: val_accuracy did not improve from 0.97044\n",
      "8/8 [==============================] - 2s 283ms/step - loss: 0.2173 - accuracy: 0.9360 - val_loss: 0.1031 - val_accuracy: 0.9680\n",
      "Epoch 32/100\n",
      "8/8 [==============================] - ETA: 0s - loss: 0.1953 - accuracy: 0.9409\n",
      "Epoch 00032: val_accuracy did not improve from 0.97044\n",
      "8/8 [==============================] - 2s 291ms/step - loss: 0.1953 - accuracy: 0.9409 - val_loss: 0.1041 - val_accuracy: 0.9655\n",
      "Epoch 33/100\n",
      "8/8 [==============================] - ETA: 0s - loss: 0.1974 - accuracy: 0.9325\n",
      "Epoch 00033: val_accuracy did not improve from 0.97044\n",
      "8/8 [==============================] - 2s 292ms/step - loss: 0.1974 - accuracy: 0.9325 - val_loss: 0.1030 - val_accuracy: 0.9655\n",
      "Epoch 34/100\n",
      "8/8 [==============================] - ETA: 0s - loss: 0.1657 - accuracy: 0.9480\n",
      "Epoch 00034: val_accuracy did not improve from 0.97044\n",
      "8/8 [==============================] - 2s 283ms/step - loss: 0.1657 - accuracy: 0.9480 - val_loss: 0.1011 - val_accuracy: 0.9655\n",
      "Epoch 35/100\n",
      "8/8 [==============================] - ETA: 0s - loss: 0.1616 - accuracy: 0.9522\n",
      "Epoch 00035: val_accuracy did not improve from 0.97044\n",
      "8/8 [==============================] - 2s 283ms/step - loss: 0.1616 - accuracy: 0.9522 - val_loss: 0.0992 - val_accuracy: 0.9655\n",
      "Epoch 36/100\n",
      "8/8 [==============================] - ETA: 0s - loss: 0.1713 - accuracy: 0.9444\n",
      "Epoch 00036: val_accuracy did not improve from 0.97044\n",
      "8/8 [==============================] - 3s 325ms/step - loss: 0.1713 - accuracy: 0.9444 - val_loss: 0.0979 - val_accuracy: 0.9680\n",
      "Epoch 37/100\n",
      "8/8 [==============================] - ETA: 0s - loss: 0.1422 - accuracy: 0.9487\n",
      "Epoch 00037: val_accuracy did not improve from 0.97044\n",
      "8/8 [==============================] - 2s 283ms/step - loss: 0.1422 - accuracy: 0.9487 - val_loss: 0.0953 - val_accuracy: 0.9680\n",
      "Epoch 38/100\n",
      "8/8 [==============================] - ETA: 0s - loss: 0.1592 - accuracy: 0.9501\n",
      "Epoch 00038: val_accuracy did not improve from 0.97044\n",
      "8/8 [==============================] - 2s 283ms/step - loss: 0.1592 - accuracy: 0.9501 - val_loss: 0.0929 - val_accuracy: 0.9680\n",
      "Epoch 39/100\n",
      "8/8 [==============================] - ETA: 0s - loss: 0.1758 - accuracy: 0.9508\n",
      "Epoch 00039: val_accuracy did not improve from 0.97044\n",
      "8/8 [==============================] - 2s 291ms/step - loss: 0.1758 - accuracy: 0.9508 - val_loss: 0.0923 - val_accuracy: 0.9704\n",
      "Epoch 40/100\n",
      "8/8 [==============================] - ETA: 0s - loss: 0.1699 - accuracy: 0.9480\n",
      "Epoch 00040: val_accuracy did not improve from 0.97044\n",
      "8/8 [==============================] - 2s 284ms/step - loss: 0.1699 - accuracy: 0.9480 - val_loss: 0.0924 - val_accuracy: 0.9704\n",
      "Epoch 41/100\n",
      "8/8 [==============================] - ETA: 0s - loss: 0.1636 - accuracy: 0.9487\n",
      "Epoch 00041: val_accuracy improved from 0.97044 to 0.97291, saving model to modelos/vgg16_80_20/best_model.h5\n",
      "8/8 [==============================] - 4s 454ms/step - loss: 0.1636 - accuracy: 0.9487 - val_loss: 0.0920 - val_accuracy: 0.9729\n",
      "Epoch 42/100\n",
      "8/8 [==============================] - ETA: 0s - loss: 0.1633 - accuracy: 0.9564\n",
      "Epoch 00042: val_accuracy did not improve from 0.97291\n",
      "8/8 [==============================] - 3s 326ms/step - loss: 0.1633 - accuracy: 0.9564 - val_loss: 0.0941 - val_accuracy: 0.9729\n",
      "Epoch 43/100\n",
      "8/8 [==============================] - ETA: 0s - loss: 0.1356 - accuracy: 0.9529\n",
      "Epoch 00043: val_accuracy did not improve from 0.97291\n",
      "8/8 [==============================] - 2s 284ms/step - loss: 0.1356 - accuracy: 0.9529 - val_loss: 0.0925 - val_accuracy: 0.9729\n",
      "Epoch 44/100\n",
      "8/8 [==============================] - ETA: 0s - loss: 0.1651 - accuracy: 0.9444\n",
      "Epoch 00044: val_accuracy did not improve from 0.97291\n",
      "8/8 [==============================] - 2s 283ms/step - loss: 0.1651 - accuracy: 0.9444 - val_loss: 0.0889 - val_accuracy: 0.9729\n",
      "Epoch 45/100\n",
      "8/8 [==============================] - ETA: 0s - loss: 0.1597 - accuracy: 0.9515\n",
      "Epoch 00045: val_accuracy improved from 0.97291 to 0.97783, saving model to modelos/vgg16_80_20/best_model.h5\n",
      "8/8 [==============================] - 4s 455ms/step - loss: 0.1597 - accuracy: 0.9515 - val_loss: 0.0860 - val_accuracy: 0.9778\n",
      "Epoch 46/100\n",
      "8/8 [==============================] - ETA: 0s - loss: 0.1470 - accuracy: 0.9557\n",
      "Epoch 00046: val_accuracy did not improve from 0.97783\n",
      "8/8 [==============================] - 2s 292ms/step - loss: 0.1470 - accuracy: 0.9557 - val_loss: 0.0857 - val_accuracy: 0.9778\n",
      "Epoch 47/100\n",
      "8/8 [==============================] - ETA: 0s - loss: 0.1240 - accuracy: 0.9625\n",
      "Epoch 00047: val_accuracy did not improve from 0.97783\n",
      "8/8 [==============================] - 3s 316ms/step - loss: 0.1240 - accuracy: 0.9625 - val_loss: 0.0844 - val_accuracy: 0.9778\n",
      "Epoch 48/100\n",
      "8/8 [==============================] - ETA: 0s - loss: 0.1821 - accuracy: 0.9529\n",
      "Epoch 00048: val_accuracy did not improve from 0.97783\n",
      "8/8 [==============================] - 2s 283ms/step - loss: 0.1821 - accuracy: 0.9529 - val_loss: 0.0864 - val_accuracy: 0.9754\n",
      "Epoch 49/100\n",
      "8/8 [==============================] - ETA: 0s - loss: 0.1244 - accuracy: 0.9655\n",
      "Epoch 00049: val_accuracy did not improve from 0.97783\n",
      "8/8 [==============================] - 2s 292ms/step - loss: 0.1244 - accuracy: 0.9655 - val_loss: 0.0859 - val_accuracy: 0.9729\n",
      "Epoch 50/100\n",
      "8/8 [==============================] - ETA: 0s - loss: 0.1611 - accuracy: 0.9508\n",
      "Epoch 00050: val_accuracy did not improve from 0.97783\n",
      "8/8 [==============================] - 2s 284ms/step - loss: 0.1611 - accuracy: 0.9508 - val_loss: 0.0862 - val_accuracy: 0.9704\n",
      "Epoch 51/100\n",
      "8/8 [==============================] - ETA: 0s - loss: 0.1201 - accuracy: 0.9599\n",
      "Epoch 00051: val_accuracy did not improve from 0.97783\n",
      "8/8 [==============================] - 2s 283ms/step - loss: 0.1201 - accuracy: 0.9599 - val_loss: 0.0850 - val_accuracy: 0.9704\n",
      "Epoch 52/100\n",
      "8/8 [==============================] - ETA: 0s - loss: 0.1395 - accuracy: 0.9564\n",
      "Epoch 00052: val_accuracy did not improve from 0.97783\n",
      "8/8 [==============================] - 3s 326ms/step - loss: 0.1395 - accuracy: 0.9564 - val_loss: 0.0833 - val_accuracy: 0.9754\n",
      "Epoch 53/100\n",
      "8/8 [==============================] - ETA: 0s - loss: 0.1069 - accuracy: 0.9669\n",
      "Epoch 00053: val_accuracy did not improve from 0.97783\n",
      "8/8 [==============================] - 2s 284ms/step - loss: 0.1069 - accuracy: 0.9669 - val_loss: 0.0816 - val_accuracy: 0.9778\n",
      "Epoch 54/100\n",
      "8/8 [==============================] - ETA: 0s - loss: 0.1317 - accuracy: 0.9578\n",
      "Epoch 00054: val_accuracy improved from 0.97783 to 0.98276, saving model to modelos/vgg16_80_20/best_model.h5\n",
      "8/8 [==============================] - 4s 448ms/step - loss: 0.1317 - accuracy: 0.9578 - val_loss: 0.0803 - val_accuracy: 0.9828\n",
      "Epoch 55/100\n",
      "8/8 [==============================] - ETA: 0s - loss: 0.1250 - accuracy: 0.9627\n",
      "Epoch 00055: val_accuracy did not improve from 0.98276\n",
      "8/8 [==============================] - 2s 291ms/step - loss: 0.1250 - accuracy: 0.9627 - val_loss: 0.0793 - val_accuracy: 0.9828\n"
     ]
    },
    {
     "name": "stdout",
     "output_type": "stream",
     "text": [
      "Epoch 56/100\n",
      "8/8 [==============================] - ETA: 0s - loss: 0.1320 - accuracy: 0.9599\n",
      "Epoch 00056: val_accuracy did not improve from 0.98276\n",
      "8/8 [==============================] - 2s 284ms/step - loss: 0.1320 - accuracy: 0.9599 - val_loss: 0.0804 - val_accuracy: 0.9803\n",
      "Epoch 57/100\n",
      "8/8 [==============================] - ETA: 0s - loss: 0.1056 - accuracy: 0.9599\n",
      "Epoch 00057: val_accuracy did not improve from 0.98276\n",
      "8/8 [==============================] - 2s 284ms/step - loss: 0.1056 - accuracy: 0.9599 - val_loss: 0.0801 - val_accuracy: 0.9803\n",
      "Epoch 58/100\n",
      "8/8 [==============================] - ETA: 0s - loss: 0.1187 - accuracy: 0.9613\n",
      "Epoch 00058: val_accuracy did not improve from 0.98276\n",
      "8/8 [==============================] - 3s 326ms/step - loss: 0.1187 - accuracy: 0.9613 - val_loss: 0.0787 - val_accuracy: 0.9803\n",
      "Epoch 59/100\n",
      "8/8 [==============================] - ETA: 0s - loss: 0.1236 - accuracy: 0.9627\n",
      "Epoch 00059: val_accuracy did not improve from 0.98276\n",
      "8/8 [==============================] - 2s 292ms/step - loss: 0.1236 - accuracy: 0.9627 - val_loss: 0.0794 - val_accuracy: 0.9803\n",
      "Epoch 60/100\n",
      "8/8 [==============================] - ETA: 0s - loss: 0.1455 - accuracy: 0.9578\n",
      "Epoch 00060: val_accuracy did not improve from 0.98276\n",
      "8/8 [==============================] - 2s 283ms/step - loss: 0.1455 - accuracy: 0.9578 - val_loss: 0.0814 - val_accuracy: 0.9803\n",
      "Epoch 61/100\n",
      "8/8 [==============================] - ETA: 0s - loss: 0.0926 - accuracy: 0.9677\n",
      "Epoch 00061: val_accuracy did not improve from 0.98276\n",
      "8/8 [==============================] - 2s 292ms/step - loss: 0.0926 - accuracy: 0.9677 - val_loss: 0.0790 - val_accuracy: 0.9803\n",
      "Epoch 62/100\n",
      "8/8 [==============================] - ETA: 0s - loss: 0.1451 - accuracy: 0.9571\n",
      "Epoch 00062: val_accuracy did not improve from 0.98276\n",
      "8/8 [==============================] - 2s 283ms/step - loss: 0.1451 - accuracy: 0.9571 - val_loss: 0.0772 - val_accuracy: 0.9803\n",
      "Epoch 63/100\n",
      "8/8 [==============================] - ETA: 0s - loss: 0.1391 - accuracy: 0.9606\n",
      "Epoch 00063: val_accuracy did not improve from 0.98276\n",
      "8/8 [==============================] - 2s 284ms/step - loss: 0.1391 - accuracy: 0.9606 - val_loss: 0.0788 - val_accuracy: 0.9803\n",
      "Epoch 64/100\n",
      "8/8 [==============================] - ETA: 0s - loss: 0.1094 - accuracy: 0.9627\n",
      "Epoch 00064: val_accuracy did not improve from 0.98276\n",
      "8/8 [==============================] - 2s 283ms/step - loss: 0.1094 - accuracy: 0.9627 - val_loss: 0.0791 - val_accuracy: 0.9803\n",
      "Epoch 65/100\n",
      "8/8 [==============================] - ETA: 0s - loss: 0.0968 - accuracy: 0.9656\n",
      "Epoch 00065: val_accuracy did not improve from 0.98276\n",
      "8/8 [==============================] - 3s 326ms/step - loss: 0.0968 - accuracy: 0.9656 - val_loss: 0.0790 - val_accuracy: 0.9778\n",
      "Epoch 66/100\n",
      "8/8 [==============================] - ETA: 0s - loss: 0.1352 - accuracy: 0.9571\n",
      "Epoch 00066: val_accuracy did not improve from 0.98276\n",
      "8/8 [==============================] - 2s 284ms/step - loss: 0.1352 - accuracy: 0.9571 - val_loss: 0.0768 - val_accuracy: 0.9803\n",
      "Epoch 67/100\n",
      "8/8 [==============================] - ETA: 0s - loss: 0.1050 - accuracy: 0.9655\n",
      "Epoch 00067: val_accuracy did not improve from 0.98276\n",
      "8/8 [==============================] - 2s 283ms/step - loss: 0.1050 - accuracy: 0.9655 - val_loss: 0.0745 - val_accuracy: 0.9803\n",
      "Epoch 68/100\n",
      "8/8 [==============================] - ETA: 0s - loss: 0.1145 - accuracy: 0.9638\n",
      "Epoch 00068: val_accuracy did not improve from 0.98276\n",
      "8/8 [==============================] - 3s 326ms/step - loss: 0.1145 - accuracy: 0.9638 - val_loss: 0.0723 - val_accuracy: 0.9803\n",
      "Epoch 69/100\n",
      "8/8 [==============================] - ETA: 0s - loss: 0.1069 - accuracy: 0.9662\n",
      "Epoch 00069: val_accuracy did not improve from 0.98276\n",
      "8/8 [==============================] - 2s 293ms/step - loss: 0.1069 - accuracy: 0.9662 - val_loss: 0.0728 - val_accuracy: 0.9803\n",
      "Epoch 70/100\n",
      "8/8 [==============================] - ETA: 0s - loss: 0.1061 - accuracy: 0.9620\n",
      "Epoch 00070: val_accuracy did not improve from 0.98276\n",
      "8/8 [==============================] - 2s 283ms/step - loss: 0.1061 - accuracy: 0.9620 - val_loss: 0.0718 - val_accuracy: 0.9803\n",
      "Epoch 71/100\n",
      "8/8 [==============================] - ETA: 0s - loss: 0.0837 - accuracy: 0.9740\n",
      "Epoch 00071: val_accuracy did not improve from 0.98276\n",
      "8/8 [==============================] - 2s 283ms/step - loss: 0.0837 - accuracy: 0.9740 - val_loss: 0.0730 - val_accuracy: 0.9803\n",
      "Epoch 72/100\n",
      "8/8 [==============================] - ETA: 0s - loss: 0.0973 - accuracy: 0.9705\n",
      "Epoch 00072: val_accuracy did not improve from 0.98276\n",
      "8/8 [==============================] - 2s 292ms/step - loss: 0.0973 - accuracy: 0.9705 - val_loss: 0.0745 - val_accuracy: 0.9803\n",
      "Epoch 73/100\n",
      "8/8 [==============================] - ETA: 0s - loss: 0.1250 - accuracy: 0.9662\n",
      "Epoch 00073: val_accuracy did not improve from 0.98276\n",
      "8/8 [==============================] - 2s 283ms/step - loss: 0.1250 - accuracy: 0.9662 - val_loss: 0.0733 - val_accuracy: 0.9803\n",
      "Epoch 74/100\n",
      "8/8 [==============================] - ETA: 0s - loss: 0.1065 - accuracy: 0.9655\n",
      "Epoch 00074: val_accuracy did not improve from 0.98276\n",
      "8/8 [==============================] - 2s 283ms/step - loss: 0.1065 - accuracy: 0.9655 - val_loss: 0.0732 - val_accuracy: 0.9803\n",
      "Epoch 75/100\n",
      "8/8 [==============================] - ETA: 0s - loss: 0.0916 - accuracy: 0.9669\n",
      "Epoch 00075: val_accuracy did not improve from 0.98276\n",
      "8/8 [==============================] - 3s 326ms/step - loss: 0.0916 - accuracy: 0.9669 - val_loss: 0.0729 - val_accuracy: 0.9803\n",
      "Epoch 76/100\n",
      "8/8 [==============================] - ETA: 0s - loss: 0.0923 - accuracy: 0.9677\n",
      "Epoch 00076: val_accuracy did not improve from 0.98276\n",
      "8/8 [==============================] - 3s 317ms/step - loss: 0.0923 - accuracy: 0.9677 - val_loss: 0.0736 - val_accuracy: 0.9778\n",
      "Epoch 77/100\n",
      "8/8 [==============================] - ETA: 0s - loss: 0.0891 - accuracy: 0.9691\n",
      "Epoch 00077: val_accuracy did not improve from 0.98276\n",
      "8/8 [==============================] - 2s 284ms/step - loss: 0.0891 - accuracy: 0.9691 - val_loss: 0.0742 - val_accuracy: 0.9778\n",
      "Epoch 78/100\n",
      "8/8 [==============================] - ETA: 0s - loss: 0.0919 - accuracy: 0.9655\n",
      "Epoch 00078: val_accuracy did not improve from 0.98276\n",
      "8/8 [==============================] - 2s 292ms/step - loss: 0.0919 - accuracy: 0.9655 - val_loss: 0.0721 - val_accuracy: 0.9803\n",
      "Epoch 79/100\n",
      "8/8 [==============================] - ETA: 0s - loss: 0.1093 - accuracy: 0.9663\n",
      "Epoch 00079: val_accuracy did not improve from 0.98276\n",
      "8/8 [==============================] - 3s 317ms/step - loss: 0.1093 - accuracy: 0.9663 - val_loss: 0.0690 - val_accuracy: 0.9803\n",
      "Epoch 80/100\n",
      "8/8 [==============================] - ETA: 0s - loss: 0.0933 - accuracy: 0.9719\n",
      "Epoch 00080: val_accuracy did not improve from 0.98276\n",
      "8/8 [==============================] - 2s 292ms/step - loss: 0.0933 - accuracy: 0.9719 - val_loss: 0.0702 - val_accuracy: 0.9803\n",
      "Epoch 81/100\n",
      "8/8 [==============================] - ETA: 0s - loss: 0.0944 - accuracy: 0.9705\n",
      "Epoch 00081: val_accuracy did not improve from 0.98276\n",
      "8/8 [==============================] - 3s 325ms/step - loss: 0.0944 - accuracy: 0.9705 - val_loss: 0.0718 - val_accuracy: 0.9778\n",
      "Epoch 82/100\n",
      "8/8 [==============================] - ETA: 0s - loss: 0.1016 - accuracy: 0.9663\n",
      "Epoch 00082: val_accuracy did not improve from 0.98276\n",
      "8/8 [==============================] - 3s 318ms/step - loss: 0.1016 - accuracy: 0.9663 - val_loss: 0.0716 - val_accuracy: 0.9754\n",
      "Epoch 83/100\n",
      "8/8 [==============================] - ETA: 0s - loss: 0.0997 - accuracy: 0.9648\n",
      "Epoch 00083: val_accuracy did not improve from 0.98276\n",
      "8/8 [==============================] - 2s 284ms/step - loss: 0.0997 - accuracy: 0.9648 - val_loss: 0.0721 - val_accuracy: 0.9754\n",
      "Epoch 84/100\n",
      "8/8 [==============================] - ETA: 0s - loss: 0.0730 - accuracy: 0.9726\n",
      "Epoch 00084: val_accuracy did not improve from 0.98276\n",
      "8/8 [==============================] - 2s 283ms/step - loss: 0.0730 - accuracy: 0.9726 - val_loss: 0.0701 - val_accuracy: 0.9754\n",
      "Epoch 85/100\n",
      "8/8 [==============================] - ETA: 0s - loss: 0.0942 - accuracy: 0.9698\n",
      "Epoch 00085: val_accuracy did not improve from 0.98276\n",
      "8/8 [==============================] - 2s 292ms/step - loss: 0.0942 - accuracy: 0.9698 - val_loss: 0.0668 - val_accuracy: 0.9778\n"
     ]
    },
    {
     "name": "stdout",
     "output_type": "stream",
     "text": [
      "Epoch 86/100\n",
      "8/8 [==============================] - ETA: 0s - loss: 0.0958 - accuracy: 0.9698\n",
      "Epoch 00086: val_accuracy did not improve from 0.98276\n",
      "8/8 [==============================] - 2s 284ms/step - loss: 0.0958 - accuracy: 0.9698 - val_loss: 0.0656 - val_accuracy: 0.9778\n",
      "Epoch 87/100\n",
      "8/8 [==============================] - ETA: 0s - loss: 0.0719 - accuracy: 0.9754\n",
      "Epoch 00087: val_accuracy did not improve from 0.98276\n",
      "8/8 [==============================] - 2s 291ms/step - loss: 0.0719 - accuracy: 0.9754 - val_loss: 0.0669 - val_accuracy: 0.9778\n",
      "Epoch 88/100\n",
      "8/8 [==============================] - ETA: 0s - loss: 0.0917 - accuracy: 0.9719\n",
      "Epoch 00088: val_accuracy did not improve from 0.98276\n",
      "8/8 [==============================] - 2s 283ms/step - loss: 0.0917 - accuracy: 0.9719 - val_loss: 0.0664 - val_accuracy: 0.9778\n",
      "Epoch 89/100\n",
      "8/8 [==============================] - ETA: 0s - loss: 0.0976 - accuracy: 0.9691\n",
      "Epoch 00089: val_accuracy did not improve from 0.98276\n",
      "8/8 [==============================] - 3s 319ms/step - loss: 0.0976 - accuracy: 0.9691 - val_loss: 0.0651 - val_accuracy: 0.9803\n",
      "Epoch 90/100\n",
      "8/8 [==============================] - ETA: 0s - loss: 0.0946 - accuracy: 0.9669\n",
      "Epoch 00090: val_accuracy did not improve from 0.98276\n",
      "8/8 [==============================] - 2s 293ms/step - loss: 0.0946 - accuracy: 0.9669 - val_loss: 0.0658 - val_accuracy: 0.9803\n",
      "Epoch 91/100\n",
      "8/8 [==============================] - ETA: 0s - loss: 0.0629 - accuracy: 0.9789\n",
      "Epoch 00091: val_accuracy did not improve from 0.98276\n",
      "8/8 [==============================] - 3s 317ms/step - loss: 0.0629 - accuracy: 0.9789 - val_loss: 0.0656 - val_accuracy: 0.9803\n",
      "Epoch 92/100\n",
      "8/8 [==============================] - ETA: 0s - loss: 0.0814 - accuracy: 0.9733\n",
      "Epoch 00092: val_accuracy did not improve from 0.98276\n",
      "8/8 [==============================] - 2s 292ms/step - loss: 0.0814 - accuracy: 0.9733 - val_loss: 0.0649 - val_accuracy: 0.9803\n",
      "Epoch 93/100\n",
      "8/8 [==============================] - ETA: 0s - loss: 0.0808 - accuracy: 0.9694\n",
      "Epoch 00093: val_accuracy did not improve from 0.98276\n",
      "8/8 [==============================] - 3s 317ms/step - loss: 0.0808 - accuracy: 0.9694 - val_loss: 0.0677 - val_accuracy: 0.9754\n",
      "Epoch 94/100\n",
      "8/8 [==============================] - ETA: 0s - loss: 0.0923 - accuracy: 0.9698\n",
      "Epoch 00094: val_accuracy did not improve from 0.98276\n",
      "8/8 [==============================] - 3s 318ms/step - loss: 0.0923 - accuracy: 0.9698 - val_loss: 0.0727 - val_accuracy: 0.9754\n",
      "Epoch 95/100\n",
      "8/8 [==============================] - ETA: 0s - loss: 0.0817 - accuracy: 0.9712\n",
      "Epoch 00095: val_accuracy did not improve from 0.98276\n",
      "8/8 [==============================] - 3s 326ms/step - loss: 0.0817 - accuracy: 0.9712 - val_loss: 0.0732 - val_accuracy: 0.9729\n",
      "Epoch 96/100\n",
      "8/8 [==============================] - ETA: 0s - loss: 0.0848 - accuracy: 0.9662\n",
      "Epoch 00096: val_accuracy did not improve from 0.98276\n",
      "8/8 [==============================] - 2s 284ms/step - loss: 0.0848 - accuracy: 0.9662 - val_loss: 0.0692 - val_accuracy: 0.9754\n",
      "Epoch 97/100\n",
      "8/8 [==============================] - ETA: 0s - loss: 0.0811 - accuracy: 0.9698\n",
      "Epoch 00097: val_accuracy did not improve from 0.98276\n",
      "8/8 [==============================] - 2s 284ms/step - loss: 0.0811 - accuracy: 0.9698 - val_loss: 0.0658 - val_accuracy: 0.9778\n",
      "Epoch 98/100\n",
      "8/8 [==============================] - ETA: 0s - loss: 0.0745 - accuracy: 0.9754\n",
      "Epoch 00098: val_accuracy did not improve from 0.98276\n",
      "8/8 [==============================] - 2s 292ms/step - loss: 0.0745 - accuracy: 0.9754 - val_loss: 0.0640 - val_accuracy: 0.9778\n",
      "Epoch 99/100\n",
      "8/8 [==============================] - ETA: 0s - loss: 0.0868 - accuracy: 0.9733\n",
      "Epoch 00099: val_accuracy did not improve from 0.98276\n",
      "8/8 [==============================] - 2s 293ms/step - loss: 0.0868 - accuracy: 0.9733 - val_loss: 0.0640 - val_accuracy: 0.9778\n",
      "Epoch 100/100\n",
      "8/8 [==============================] - ETA: 0s - loss: 0.0763 - accuracy: 0.9733\n",
      "Epoch 00100: val_accuracy did not improve from 0.98276\n",
      "8/8 [==============================] - 2s 283ms/step - loss: 0.0763 - accuracy: 0.9733 - val_loss: 0.0649 - val_accuracy: 0.9778\n",
      "0:05:01.582880\n"
     ]
    }
   ],
   "source": [
    "print(\"[INFO] training head...\")\n",
    "\n",
    "start_time = time.monotonic()\n",
    "\n",
    "H = model.fit_generator(\n",
    "    trainAug.flow(trainX, trainY, batch_size=BS),class_weight=d_class_weights ,\n",
    "    steps_per_epoch=len(trainX) // BS,\n",
    "    validation_data=(testX, testY),\n",
    "    callbacks=callbacks_list,\n",
    "\n",
    "    validation_steps=len(testX) // BS,epochs=EPOCHS)\n",
    "end_time = time.monotonic()\n",
    "print(timedelta(seconds=end_time - start_time))"
   ]
  },
  {
   "cell_type": "code",
   "execution_count": 22,
   "metadata": {},
   "outputs": [
    {
     "name": "stdout",
     "output_type": "stream",
     "text": [
      "Saved model to disk\n"
     ]
    }
   ],
   "source": [
    "model.save_weights(\"modelos/vgg16_80_20/model.h5\")\n",
    "print(\"Saved model to disk\")\n",
    "model = load_model(filepath)"
   ]
  },
  {
   "cell_type": "code",
   "execution_count": 23,
   "metadata": {},
   "outputs": [
    {
     "name": "stdout",
     "output_type": "stream",
     "text": [
      "[INFO] evaluating network...\n",
      "              precision    recall  f1-score   support\n",
      "\n",
      "           0       1.00      0.98      0.99       333\n",
      "           1       0.92      0.99      0.95        73\n",
      "\n",
      "    accuracy                           0.98       406\n",
      "   macro avg       0.96      0.98      0.97       406\n",
      "weighted avg       0.98      0.98      0.98       406\n",
      "\n"
     ]
    }
   ],
   "source": [
    "print(\"[INFO] evaluating network...\")\n",
    "predIdxs = model.predict(testX, batch_size=BS)\n",
    "predIdxs = np.argmax(predIdxs, axis=1)\n",
    "print(classification_report(testY.argmax(axis=1), predIdxs))"
   ]
  },
  {
   "cell_type": "code",
   "execution_count": 24,
   "metadata": {},
   "outputs": [
    {
     "name": "stdout",
     "output_type": "stream",
     "text": [
      "[[327   6]\n",
      " [  1  72]]\n",
      "acc: 0.9828\n",
      "sensitivity: 0.9820\n",
      "specificity: 0.9863\n"
     ]
    }
   ],
   "source": [
    "\n",
    "\n",
    "cm = confusion_matrix(testY.argmax(axis=1), predIdxs)\n",
    "total = sum(sum(cm))\n",
    "acc = (cm[0, 0] + cm[1, 1]) / total\n",
    "sensitivity = cm[0, 0] / (cm[0, 0] + cm[0, 1])\n",
    "specificity = cm[1, 1] / (cm[1, 0] + cm[1, 1])\n",
    "print(cm)\n",
    "print(\"acc: {:.4f}\".format(acc))\n",
    "print(\"sensitivity: {:.4f}\".format(sensitivity))\n",
    "print(\"specificity: {:.4f}\".format(specificity))\n",
    "\n"
   ]
  },
  {
   "cell_type": "code",
   "execution_count": null,
   "metadata": {},
   "outputs": [],
   "source": [
    "N = EPOCHS\n",
    "plt.figure()\n",
    "plt.plot(np.arange(0, N), H.history[\"loss\"], label=\"train_loss\")\n",
    "plt.plot(np.arange(0, N), H.history[\"val_loss\"], label=\"val_loss\")\n",
    "plt.plot(np.arange(0, N), H.history[\"accuracy\"], label=\"train_acc\")\n",
    "plt.plot(np.arange(0, N), H.history[\"val_accuracy\"], label=\"val_acc\")\n",
    "plt.title(\"Training Loss and Accuracy on Dataset\")\n",
    "plt.xlabel(\"Epoch #\")\n",
    "plt.ylabel(\"Loss/Accuracy\")\n",
    "plt.legend(loc=\"best\")\n",
    "#plt.savefig(args[\"plot\"])"
   ]
  },
  {
   "cell_type": "code",
   "execution_count": null,
   "metadata": {},
   "outputs": [],
   "source": []
  },
  {
   "cell_type": "code",
   "execution_count": null,
   "metadata": {},
   "outputs": [],
   "source": []
  },
  {
   "cell_type": "code",
   "execution_count": null,
   "metadata": {},
   "outputs": [],
   "source": []
  }
 ],
 "metadata": {
  "kernelspec": {
   "display_name": "Python 3",
   "language": "python",
   "name": "python3"
  },
  "language_info": {
   "codemirror_mode": {
    "name": "ipython",
    "version": 3
   },
   "file_extension": ".py",
   "mimetype": "text/x-python",
   "name": "python",
   "nbconvert_exporter": "python",
   "pygments_lexer": "ipython3",
   "version": "3.6.9"
  }
 },
 "nbformat": 4,
 "nbformat_minor": 4
}
