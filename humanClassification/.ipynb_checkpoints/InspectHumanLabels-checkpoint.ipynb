{
 "cells": [
  {
   "cell_type": "markdown",
   "metadata": {},
   "source": [
    "# Paneles"
   ]
  },
  {
   "cell_type": "code",
   "execution_count": 32,
   "metadata": {},
   "outputs": [],
   "source": [
    "import pandas as pd\n",
    "import pytz, datetime\n",
    "import pytz\n",
    "import numpy as np\n",
    "import seaborn as sns\n",
    "import matplotlib.pyplot as plt\n",
    "from scipy import stats\n",
    "import os, fnmatch\n",
    "from astropy.io import fits\n",
    "import cv2\n",
    "from pandas.api.types import CategoricalDtype"
   ]
  },
  {
   "cell_type": "code",
   "execution_count": 33,
   "metadata": {},
   "outputs": [],
   "source": [
    "Path='/home/gpu/Documentos/CONNIEData/eventsFits/'\n"
   ]
  },
  {
   "cell_type": "code",
   "execution_count": 34,
   "metadata": {},
   "outputs": [],
   "source": [
    "categoriess=['muons','worm','spots','undefined','segmentacion error']\n"
   ]
  },
  {
   "cell_type": "code",
   "execution_count": 35,
   "metadata": {},
   "outputs": [],
   "source": [
    "classifier=['Jorge','Diego','Javier']\n",
    "categories=['muon_sure','worm','spot','undefined','error de segmentacion']\n",
    "\n",
    "class2int = CategoricalDtype(categories=categories, ordered=False)\n",
    "dataset= pd.DataFrame({'runID': [],'ohdu': [],'eventID' : [],'class' : [],'classID' : []})\n",
    "flag=0\n",
    "for file in classifier:\n",
    "    data = pd.read_csv('List'+file,lineterminator='\\n',names=['files','class_'+file])\n",
    "    data[\"files\"]=data[\"files\"].str.replace(\"assets/\", \"\").str.replace(\".png\", \"\")\n",
    "    data[['runID','ohdu','eventID']]=data[\"files\"].str.split('_',expand=True)\n",
    "    data[\"classID_\"+file] = data['class_'+file].astype(class2int).cat.codes\n",
    "    data=data.drop(columns=[\"files\"])\n",
    "    if(flag==0):\n",
    "        dataset=data\n",
    "        flag=1\n",
    "    else:\n",
    "        dataset=dataset.merge( data,on=['runID','ohdu','eventID'])\n",
    "\n",
    "    \n",
    "    "
   ]
  },
  {
   "cell_type": "code",
   "execution_count": 36,
   "metadata": {},
   "outputs": [
    {
     "name": "stdout",
     "output_type": "stream",
     "text": [
      "<class 'pandas.core.frame.DataFrame'>\n",
      "Int64Index: 4000 entries, 0 to 3999\n",
      "Data columns (total 9 columns):\n",
      " #   Column          Non-Null Count  Dtype \n",
      "---  ------          --------------  ----- \n",
      " 0   class_Jorge     4000 non-null   object\n",
      " 1   runID           4000 non-null   object\n",
      " 2   ohdu            4000 non-null   object\n",
      " 3   eventID         4000 non-null   object\n",
      " 4   classID_Jorge   4000 non-null   int8  \n",
      " 5   class_Diego     4000 non-null   object\n",
      " 6   classID_Diego   4000 non-null   int8  \n",
      " 7   class_Javier    4000 non-null   object\n",
      " 8   classID_Javier  4000 non-null   int8  \n",
      "dtypes: int8(3), object(6)\n",
      "memory usage: 230.5+ KB\n"
     ]
    }
   ],
   "source": [
    "dataset.info()"
   ]
  },
  {
   "cell_type": "code",
   "execution_count": 37,
   "metadata": {},
   "outputs": [
    {
     "data": {
      "text/html": [
       "<div>\n",
       "<style scoped>\n",
       "    .dataframe tbody tr th:only-of-type {\n",
       "        vertical-align: middle;\n",
       "    }\n",
       "\n",
       "    .dataframe tbody tr th {\n",
       "        vertical-align: top;\n",
       "    }\n",
       "\n",
       "    .dataframe thead th {\n",
       "        text-align: right;\n",
       "    }\n",
       "</style>\n",
       "<table border=\"1\" class=\"dataframe\">\n",
       "  <thead>\n",
       "    <tr style=\"text-align: right;\">\n",
       "      <th></th>\n",
       "      <th>class_Jorge</th>\n",
       "      <th>runID</th>\n",
       "      <th>ohdu</th>\n",
       "      <th>eventID</th>\n",
       "      <th>classID_Jorge</th>\n",
       "      <th>class_Diego</th>\n",
       "      <th>classID_Diego</th>\n",
       "      <th>class_Javier</th>\n",
       "      <th>classID_Javier</th>\n",
       "    </tr>\n",
       "  </thead>\n",
       "  <tbody>\n",
       "    <tr>\n",
       "      <th>0</th>\n",
       "      <td>undefined</td>\n",
       "      <td>6378</td>\n",
       "      <td>5</td>\n",
       "      <td>233</td>\n",
       "      <td>3</td>\n",
       "      <td>undefined</td>\n",
       "      <td>3</td>\n",
       "      <td>undefined</td>\n",
       "      <td>3</td>\n",
       "    </tr>\n",
       "    <tr>\n",
       "      <th>1</th>\n",
       "      <td>error de segmentacion</td>\n",
       "      <td>7349</td>\n",
       "      <td>4</td>\n",
       "      <td>297</td>\n",
       "      <td>4</td>\n",
       "      <td>undefined</td>\n",
       "      <td>3</td>\n",
       "      <td>undefined</td>\n",
       "      <td>3</td>\n",
       "    </tr>\n",
       "    <tr>\n",
       "      <th>2</th>\n",
       "      <td>muon_sure</td>\n",
       "      <td>7088</td>\n",
       "      <td>2</td>\n",
       "      <td>688</td>\n",
       "      <td>0</td>\n",
       "      <td>undefined</td>\n",
       "      <td>3</td>\n",
       "      <td>undefined</td>\n",
       "      <td>3</td>\n",
       "    </tr>\n",
       "    <tr>\n",
       "      <th>3</th>\n",
       "      <td>muon_sure</td>\n",
       "      <td>6704</td>\n",
       "      <td>5</td>\n",
       "      <td>628</td>\n",
       "      <td>0</td>\n",
       "      <td>muon_sure</td>\n",
       "      <td>0</td>\n",
       "      <td>muon_sure</td>\n",
       "      <td>0</td>\n",
       "    </tr>\n",
       "    <tr>\n",
       "      <th>4</th>\n",
       "      <td>error de segmentacion</td>\n",
       "      <td>7228</td>\n",
       "      <td>2</td>\n",
       "      <td>163</td>\n",
       "      <td>4</td>\n",
       "      <td>error de segmentacion</td>\n",
       "      <td>4</td>\n",
       "      <td>error de segmentacion</td>\n",
       "      <td>4</td>\n",
       "    </tr>\n",
       "  </tbody>\n",
       "</table>\n",
       "</div>"
      ],
      "text/plain": [
       "             class_Jorge runID ohdu eventID  classID_Jorge  \\\n",
       "0              undefined  6378    5     233              3   \n",
       "1  error de segmentacion  7349    4     297              4   \n",
       "2              muon_sure  7088    2     688              0   \n",
       "3              muon_sure  6704    5     628              0   \n",
       "4  error de segmentacion  7228    2     163              4   \n",
       "\n",
       "             class_Diego  classID_Diego           class_Javier  classID_Javier  \n",
       "0              undefined              3              undefined               3  \n",
       "1              undefined              3              undefined               3  \n",
       "2              undefined              3              undefined               3  \n",
       "3              muon_sure              0              muon_sure               0  \n",
       "4  error de segmentacion              4  error de segmentacion               4  "
      ]
     },
     "execution_count": 37,
     "metadata": {},
     "output_type": "execute_result"
    }
   ],
   "source": [
    "dataset.head()\n"
   ]
  },
  {
   "cell_type": "code",
   "execution_count": 38,
   "metadata": {},
   "outputs": [],
   "source": [
    "SMALL_SIZE = 16\n",
    "MEDIUM_SIZE = 18\n",
    "BIGGER_SIZE = 20\n",
    "\n",
    "plt.rc('font', size=SMALL_SIZE)          # controls default text sizes\n",
    "plt.rc('axes', titlesize=SMALL_SIZE)     # fontsize of the axes title\n",
    "plt.rc('axes', labelsize=MEDIUM_SIZE)    # fontsize of the x and y labels\n",
    "plt.rc('xtick', labelsize=SMALL_SIZE)    # fontsize of the tick labels\n",
    "plt.rc('ytick', labelsize=SMALL_SIZE)    # fontsize of the tick labels\n",
    "plt.rc('legend', fontsize=SMALL_SIZE)    # legend fontsize\n",
    "plt.rc('figure', titlesize=BIGGER_SIZE)  # fontsize of the figure title"
   ]
  },
  {
   "cell_type": "code",
   "execution_count": 39,
   "metadata": {},
   "outputs": [
    {
     "data": {
      "image/png": "[encoded data removed]",
      "text/plain": [
       "<Figure size 576x576 with 1 Axes>"
      ]
     },
     "metadata": {},
     "output_type": "display_data"
    }
   ],
   "source": [
    "fig = plt.figure(figsize=(8,8))\n",
    "legend=['Member A','Member B','Member C']\n",
    "\n",
    "d=plt.hist([dataset.class_Jorge, dataset.class_Diego,dataset.class_Javier], label=legend)\n",
    "plt.legend(loc='upper right')\n",
    "plt.xticks(rotation='70')\n",
    "fig = plt.gcf()\n",
    "plt.savefig('dataset/histogram.pdf',dpi=300)\n",
    "plt.show()\n"
   ]
  },
  {
   "cell_type": "code",
   "execution_count": null,
   "metadata": {},
   "outputs": [],
   "source": []
  },
  {
   "cell_type": "code",
   "execution_count": 40,
   "metadata": {},
   "outputs": [
    {
     "name": "stdout",
     "output_type": "stream",
     "text": [
      "(array([[3.038e+03, 0.000e+00, 2.070e+02, 0.000e+00, 0.000e+00, 4.970e+02,\n",
      "        0.000e+00, 1.060e+02, 0.000e+00, 1.520e+02],\n",
      "       [2.092e+03, 0.000e+00, 9.670e+02, 0.000e+00, 0.000e+00, 8.030e+02,\n",
      "        0.000e+00, 1.370e+02, 0.000e+00, 1.000e+00],\n",
      "       [2.386e+03, 0.000e+00, 3.510e+02, 0.000e+00, 0.000e+00, 1.009e+03,\n",
      "        0.000e+00, 2.370e+02, 0.000e+00, 1.700e+01]]), array([0. , 0.4, 0.8, 1.2, 1.6, 2. , 2.4, 2.8, 3.2, 3.6, 4. ]), <a list of 3 Lists of Patches objects>)\n"
     ]
    }
   ],
   "source": [
    "print(d)"
   ]
  },
  {
   "cell_type": "code",
   "execution_count": 41,
   "metadata": {},
   "outputs": [
    {
     "name": "stdout",
     "output_type": "stream",
     "text": [
      "392\n",
      "424\n",
      "368\n"
     ]
    }
   ],
   "source": [
    "muonFlagJD=np.logical_and(dataset.classID_Jorge==0,dataset.classID_Diego==0)\n",
    "print(np.sum(muonFlagJD))\n",
    "muonFlagJJ=np.logical_and(dataset.classID_Jorge==0,dataset.classID_Javier==0)\n",
    "print(np.sum(muonFlagJJ))\n",
    "muonFlag=np.logical_and(muonFlagJD,muonFlagJJ)\n",
    "print(np.sum(muonFlag))"
   ]
  },
  {
   "cell_type": "code",
   "execution_count": null,
   "metadata": {},
   "outputs": [],
   "source": []
  },
  {
   "cell_type": "code",
   "execution_count": 42,
   "metadata": {},
   "outputs": [],
   "source": [
    "def chunker(seq, size):\n",
    "    return (seq[pos:pos + size] for pos in range(0, len(seq), size))"
   ]
  },
  {
   "cell_type": "code",
   "execution_count": 43,
   "metadata": {},
   "outputs": [
    {
     "name": "stderr",
     "output_type": "stream",
     "text": [
      "/home/gpu/venv/lib/python3.7/site-packages/ipykernel_launcher.py:29: RuntimeWarning: invalid value encountered in sqrt\n"
     ]
    }
   ],
   "source": [
    "nimg=32\n",
    "columns =8\n",
    "fz=16\n",
    "window_height = 200\n",
    "for file in classifier:\n",
    "    for clas in categories:\n",
    "        flag=dataset['class_'+file]==clas\n",
    "        data=dataset[flag]\n",
    "        n=sum(flag)\n",
    "        if(n>100):\n",
    "            nimg=50\n",
    "            columns=10\n",
    "            fz=12\n",
    "        if(n>200):\n",
    "            nimg=200\n",
    "            columns=20\n",
    "            fz=8\n",
    "        j=0\n",
    "        for ck in chunker(data,nimg):\n",
    "ps             j=j+1\n",
    "            plt.subplots_adjust(wspace=0, hspace=0)\n",
    "            i=-1\n",
    "            for row in ck.iterrows():\n",
    "                i=i+1\n",
    "                img = fits.getdata(Path+str(row[1].runID)+'/catalog' +str(row[1].runID)+ '_' +str(row[1].ohdu)+'_' + str(row[1].eventID) + '.fits')\n",
    "                aspect_ratio = float(img.shape[1])/float(img.shape[0])\n",
    "                window_width = window_height/aspect_ratio\n",
    "                res = cv2.resize(np.sqrt(img), dsize=(int(window_height),int(window_width)), interpolation=cv2.INTER_NEAREST)\n",
    "                #res1 = cv2.normalize(img, None, 0, 255, cv2.NORM_MINMAX)\n",
    "                plt.subplot(len(ck) / columns + 1, columns, i + 1)\n",
    "                plt.imshow(res,cmap='hot_r',interpolation='nearest')\n",
    "                plt.text(10, -40,str(row[1].runID)+' '+str(row[1].ohdu)+' '+str(row[1].eventID), fontsize=fz)\n",
    "                plt.text(10, -10,str(img.shape[1])+'x'+str(img.shape[0]), fontsize=fz)\n",
    "                plt.axis('off')\n",
    "            plt.subplots_adjust(wspace=None, hspace=None)\n",
    "            #fig.axes.get_xaxis().set_visible(False)\n",
    "            #fig.axes.get_yaxis().set_visible(False)\n",
    "            plt.tight_layout()\n",
    "            plt.savefig('dataset/'+file+'/'+clas+str(j)+'.png')\n",
    "            plt.close(fig)\n",
    "            #plt.show()\n",
    "            #break\n",
    "            "
   ]
  },
  {
   "cell_type": "code",
   "execution_count": 44,
   "metadata": {},
   "outputs": [
    {
     "name": "stdout",
     "output_type": "stream",
     "text": [
      "2438\n",
      "2772\n",
      "2073\n"
     ]
    }
   ],
   "source": [
    "agreeFlagJD=(dataset.classID_Jorge-dataset.classID_Diego)==0\n",
    "print(np.sum(agreeFlagJD))\n",
    "agreeFlagJJ=(dataset.classID_Jorge-dataset.classID_Javier)==0\n",
    "print(np.sum(agreeFlagJJ))\n",
    "agreeFlag=np.logical_and(agreeFlagJD,agreeFlagJJ)\n",
    "print(np.sum(agreeFlag))\n"
   ]
  },
  {
   "cell_type": "code",
   "execution_count": 45,
   "metadata": {},
   "outputs": [],
   "source": [
    "dataset[\"agreeFlag\"] = agreeFlag\n"
   ]
  },
  {
   "cell_type": "code",
   "execution_count": 46,
   "metadata": {},
   "outputs": [
    {
     "name": "stderr",
     "output_type": "stream",
     "text": [
      "/home/gpu/venv/lib/python3.7/site-packages/ipykernel_launcher.py:32: RuntimeWarning: invalid value encountered in sqrt\n"
     ]
    }
   ],
   "source": [
    "nimg=32\n",
    "columns =8\n",
    "fz=16\n",
    "window_height = 200\n",
    "if(True):\n",
    "    file=\"Jorge\"\n",
    "    for clas in categories:\n",
    "        flag=dataset['class_'+file]==clas\n",
    "        flag=np.logical_and(flag,agreeFlag)\n",
    "        data=dataset[flag]\n",
    "        n=sum(flag)\n",
    "        if(n>100):\n",
    "            nimg=50\n",
    "            columns=10\n",
    "            fz=12\n",
    "        if(n>200):\n",
    "            nimg=200\n",
    "            columns=20\n",
    "            fz=8\n",
    "        j=0\n",
    "        for ck in chunker(data,nimg):\n",
    "            fig=plt.figure(figsize=(30,20))\n",
    "            j=j+1\n",
    "            plt.subplots_adjust(wspace=0, hspace=0)\n",
    "\n",
    "            i=-1\n",
    "            for row in ck.iterrows():\n",
    "                i=i+1\n",
    "                img = fits.getdata(Path+str(row[1].runID)+'/catalog' +str(row[1].runID)+ '_' +str(row[1].ohdu)+'_' + str(row[1].eventID) + '.fits')\n",
    "                aspect_ratio = float(img.shape[1])/float(img.shape[0])\n",
    "                window_width = window_height/aspect_ratio\n",
    "                res = cv2.resize(np.sqrt(img), dsize=(int(window_height),int(window_width)), interpolation=cv2.INTER_NEAREST)\n",
    "\n",
    "                 #res1 = cv2.normalize(img, None, 0, 255, cv2.NORM_MINMAX)\n",
    "                plt.subplot(len(ck) / columns + 1, columns, i + 1)\n",
    "                plt.imshow(res,cmap='hot_r',interpolation='nearest')\n",
    "                plt.text(10, -40,str(row[1].runID)+' '+str(row[1].ohdu)+' '+str(row[1].eventID), fontsize=fz)\n",
    "                plt.text(10, -10,str(img.shape[1])+'x'+str(img.shape[0]), fontsize=fz)\n",
    "\n",
    "                plt.axis('off')\n",
    "            plt.subplots_adjust(wspace=None, hspace=None)\n",
    "                      #fig.axes.get_xaxis().set_visible(False)\n",
    "                #fig.axes.get_yaxis().set_visible(False)\n",
    "            plt.tight_layout()\n",
    "            plt.savefig('dataset/Combined/'+clas+str(j)+'.png')\n",
    "            plt.close(fig)\n",
    "            #plt.show()\n",
    "            #break\n",
    "           "
   ]
  },
  {
   "cell_type": "code",
   "execution_count": 47,
   "metadata": {},
   "outputs": [
    {
     "data": {
      "image/png": "[encoded data removed]",
      "text/plain": [
       "<Figure size 576x576 with 1 Axes>"
      ]
     },
     "metadata": {},
     "output_type": "display_data"
    }
   ],
   "source": [
    "\n",
    "fig = plt.figure(figsize=(8,8))\n",
    "\n",
    "sns.set(font_scale=1.5)\n",
    "datasett=dataset[agreeFlag]\n",
    "\n",
    "ax = sns.countplot(x=\"class_Jorge\", data=datasett)\n",
    "total = len(datasett['class_Jorge'])\n",
    "for p in ax.patches:\n",
    "        percentage = '{:.1f}%'.format(100 * p.get_height()/total)\n",
    "        x = p.get_x() + p.get_width()*0.1\n",
    "        y = p.get_y() + p.get_height()*0.5\n",
    "        ax.annotate(percentage, (x, y))\n",
    "       # y = p.get_y() + p.get_height()*0.9\n",
    "       # ax.annotate(p.get_height(), (x, y))\n",
    "plt.xticks(rotation='70')\n",
    "plt.xlabel(\" \")\n",
    "plt.ylabel(\"Events\")\n",
    "\n",
    "plt.savefig('dataset/histogramCombined.pdf',dpi=300)"
   ]
  },
  {
   "cell_type": "code",
   "execution_count": 29,
   "metadata": {},
   "outputs": [],
   "source": [
    "datasett.to_csv('sample/trainCatalogCombinedNew.csv',index=False)"
   ]
  },
  {
   "cell_type": "code",
   "execution_count": null,
   "metadata": {},
   "outputs": [],
   "source": []
  }
 ],
 "metadata": {
  "kernelspec": {
   "display_name": "Python 3",
   "language": "python",
   "name": "python3"
  },
  "language_info": {
   "codemirror_mode": {
    "name": "ipython",
    "version": 3
   },
   "file_extension": ".py",
   "mimetype": "text/x-python",
   "name": "python",
   "nbconvert_exporter": "python",
   "pygments_lexer": "ipython3",
   "version": "3.6.9"
  }
 },
 "nbformat": 4,
 "nbformat_minor": 4
}
