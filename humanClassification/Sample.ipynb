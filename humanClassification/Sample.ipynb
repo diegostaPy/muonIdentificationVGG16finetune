{
 "cells": [
  {
   "cell_type": "markdown",
   "metadata": {},
   "source": [
    "# Paneles"
   ]
  },
  {
   "cell_type": "code",
   "execution_count": 1,
   "metadata": {},
   "outputs": [],
   "source": [
    "import pandas as pd\n",
    "import pytz, datetime\n",
    "import pytz\n",
    "import numpy as np\n",
    "import seaborn as sns\n",
    "import matplotlib.pyplot as plt\n",
    "from scipy import stats\n",
    "import os, fnmatch\n",
    "from astropy.io import fits\n",
    "import cv2\n"
   ]
  },
  {
   "cell_type": "code",
   "execution_count": 2,
   "metadata": {},
   "outputs": [],
   "source": [
    "Path='/home/gpu/Documentos/CONNIEData/eventsFits/'\n"
   ]
  },
  {
   "cell_type": "code",
   "execution_count": 3,
   "metadata": {},
   "outputs": [],
   "source": [
    "Data = pd.read_csv('masterCatalog.csv')"
   ]
  },
  {
   "cell_type": "code",
   "execution_count": 4,
   "metadata": {},
   "outputs": [
    {
     "data": {
      "text/html": [
       "<div>\n",
       "<style scoped>\n",
       "    .dataframe tbody tr th:only-of-type {\n",
       "        vertical-align: middle;\n",
       "    }\n",
       "\n",
       "    .dataframe tbody tr th {\n",
       "        vertical-align: top;\n",
       "    }\n",
       "\n",
       "    .dataframe thead th {\n",
       "        text-align: right;\n",
       "    }\n",
       "</style>\n",
       "<table border=\"1\" class=\"dataframe\">\n",
       "  <thead>\n",
       "    <tr style=\"text-align: right;\">\n",
       "      <th></th>\n",
       "      <th>runID</th>\n",
       "      <th>ohdu</th>\n",
       "      <th>expoStart</th>\n",
       "      <th>events</th>\n",
       "      <th>datetime</th>\n",
       "    </tr>\n",
       "  </thead>\n",
       "  <tbody>\n",
       "    <tr>\n",
       "      <th>0</th>\n",
       "      <td>6031</td>\n",
       "      <td>2</td>\n",
       "      <td>1555092071</td>\n",
       "      <td>755</td>\n",
       "      <td>2019-04-12 18:01:11+00:00</td>\n",
       "    </tr>\n",
       "    <tr>\n",
       "      <th>1</th>\n",
       "      <td>6032</td>\n",
       "      <td>2</td>\n",
       "      <td>1555096103</td>\n",
       "      <td>787</td>\n",
       "      <td>2019-04-12 19:08:23+00:00</td>\n",
       "    </tr>\n",
       "    <tr>\n",
       "      <th>2</th>\n",
       "      <td>6033</td>\n",
       "      <td>2</td>\n",
       "      <td>1555100112</td>\n",
       "      <td>768</td>\n",
       "      <td>2019-04-12 20:15:12+00:00</td>\n",
       "    </tr>\n",
       "    <tr>\n",
       "      <th>3</th>\n",
       "      <td>6034</td>\n",
       "      <td>2</td>\n",
       "      <td>1555104148</td>\n",
       "      <td>749</td>\n",
       "      <td>2019-04-12 21:22:28+00:00</td>\n",
       "    </tr>\n",
       "    <tr>\n",
       "      <th>4</th>\n",
       "      <td>6035</td>\n",
       "      <td>2</td>\n",
       "      <td>1555108171</td>\n",
       "      <td>723</td>\n",
       "      <td>2019-04-12 22:29:31+00:00</td>\n",
       "    </tr>\n",
       "  </tbody>\n",
       "</table>\n",
       "</div>"
      ],
      "text/plain": [
       "   runID  ohdu   expoStart  events                   datetime\n",
       "0   6031     2  1555092071     755  2019-04-12 18:01:11+00:00\n",
       "1   6032     2  1555096103     787  2019-04-12 19:08:23+00:00\n",
       "2   6033     2  1555100112     768  2019-04-12 20:15:12+00:00\n",
       "3   6034     2  1555104148     749  2019-04-12 21:22:28+00:00\n",
       "4   6035     2  1555108171     723  2019-04-12 22:29:31+00:00"
      ]
     },
     "execution_count": 4,
     "metadata": {},
     "output_type": "execute_result"
    }
   ],
   "source": [
    "Data.head()"
   ]
  },
  {
   "cell_type": "code",
   "execution_count": 5,
   "metadata": {},
   "outputs": [],
   "source": [
    "Sample=Data.sample(n=200, random_state=1)"
   ]
  },
  {
   "cell_type": "code",
   "execution_count": 6,
   "metadata": {},
   "outputs": [],
   "source": [
    "Sample.to_csv('Sample.csv',index=False)"
   ]
  }
 ],
 "metadata": {
  "kernelspec": {
   "display_name": "Python 3",
   "language": "python",
   "name": "python3"
  },
  "language_info": {
   "codemirror_mode": {
    "name": "ipython",
    "version": 3
   },
   "file_extension": ".py",
   "mimetype": "text/x-python",
   "name": "python",
   "nbconvert_exporter": "python",
   "pygments_lexer": "ipython3",
   "version": "3.6.9"
  }
 },
 "nbformat": 4,
 "nbformat_minor": 4
}
